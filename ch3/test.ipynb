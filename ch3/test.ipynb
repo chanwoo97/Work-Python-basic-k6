{
 "cells": [
  {
   "cell_type": "code",
   "id": "initial_id",
   "metadata": {
    "collapsed": true,
    "ExecuteTime": {
     "end_time": "2025-09-01T07:19:10.451824Z",
     "start_time": "2025-09-01T07:19:10.446994Z"
    }
   },
   "source": [
    "# 참조에 의한 호출, 3장 9페이지\n",
    "# 매개변수에, 리스트를 받을 경우\n",
    "def spam(eggs):\n",
    "    print(f\"eggs의 id(메모리위치주솟값 정수로표현) : {id(eggs)}\")\n",
    "    eggs.append(1)\n",
    "    print(f\"eggs.append(1) 후, eggs의 id2(메모리위치주솟값 정수로표현) : {id(eggs)}\")\n",
    "    eggs = [2,3] # 새로운 객체를 재할당!! 중요함!!\n",
    "    print(f\"eggs = [2,3] 후, eggs의 id3(메모리위치주솟값 정수로표현) :{id(eggs)}\")\n",
    "\n",
    "# 함수 사용\n",
    "ham = [0] # 요소가 0인 리스트 준비\n",
    "print(f\"spam(ham)호출 하기 전의 ham의 id(메모리위치주솟값 정수로표현) : {id(ham)}\")\n",
    "spam(ham)\n",
    "print(f\"spam(ham)호출 하기 후의 ham의 id(메모리위치주솟값 정수로표현) : {id(ham)}\")"
   ],
   "outputs": [
    {
     "name": "stdout",
     "output_type": "stream",
     "text": [
      "spam(ham)호출 하기 전의 ham의 id(메모리위치주솟값 정수로표현) : 2509961537728\n",
      "eggs의 id(메모리위치주솟값 정수로표현) : 2509961537728\n",
      "eggs.append(1) 후, eggs의 id2(메모리위치주솟값 정수로표현) : 2509961537728\n",
      "eggs = [2,3] 후, eggs의 id3(메모리위치주솟값 정수로표현) :2509961269760\n",
      "spam(ham)호출 하기 후의 ham의 id(메모리위치주솟값 정수로표현) : 2509961537728\n"
     ]
    }
   ],
   "execution_count": 5
  },
  {
   "metadata": {
    "ExecuteTime": {
     "end_time": "2025-09-01T07:26:08.328875Z",
     "start_time": "2025-09-01T07:26:08.324498Z"
    }
   },
   "cell_type": "code",
   "source": [
    "def f():\n",
    "    # global s # 키워드 global, 전역으로 변경.\n",
    "    s = \"jcw\" # 원래는 지역 변수\n",
    "    print(s)\n",
    "s = \"abc\"\n",
    "f()\n",
    "print(s)"
   ],
   "id": "19e88348ac1a4746",
   "outputs": [
    {
     "name": "stdout",
     "output_type": "stream",
     "text": [
      "jcw\n",
      "abc\n"
     ]
    }
   ],
   "execution_count": 6
  },
  {
   "metadata": {
    "ExecuteTime": {
     "end_time": "2025-09-01T07:26:12.310430Z",
     "start_time": "2025-09-01T07:26:12.306804Z"
    }
   },
   "cell_type": "code",
   "source": [
    "def f():\n",
    "    global s # 키워드 global, 전역으로 변경.\n",
    "    s = \"jcw\" # 원래는 지역 변수\n",
    "    print(s)\n",
    "s = \"abc\"\n",
    "f()\n",
    "print(s)"
   ],
   "id": "3cee25db1f51fe5",
   "outputs": [
    {
     "name": "stdout",
     "output_type": "stream",
     "text": [
      "jcw\n",
      "jcw\n"
     ]
    }
   ],
   "execution_count": 7
  }
 ],
 "metadata": {
  "kernelspec": {
   "display_name": "Python 3",
   "language": "python",
   "name": "python3"
  },
  "language_info": {
   "codemirror_mode": {
    "name": "ipython",
    "version": 2
   },
   "file_extension": ".py",
   "mimetype": "text/x-python",
   "name": "python",
   "nbconvert_exporter": "python",
   "pygments_lexer": "ipython2",
   "version": "2.7.6"
  }
 },
 "nbformat": 4,
 "nbformat_minor": 5
}
