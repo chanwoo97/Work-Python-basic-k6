{
 "cells": [
  {
   "cell_type": "code",
   "id": "initial_id",
   "metadata": {
    "collapsed": true,
    "ExecuteTime": {
     "end_time": "2025-09-01T07:19:10.451824Z",
     "start_time": "2025-09-01T07:19:10.446994Z"
    }
   },
   "source": [
    "# 참조에 의한 호출, 3장 9페이지\n",
    "# 매개변수에, 리스트를 받을 경우\n",
    "def spam(eggs):\n",
    "    print(f\"eggs의 id(메모리위치주솟값 정수로표현) : {id(eggs)}\")\n",
    "    eggs.append(1)\n",
    "    print(f\"eggs.append(1) 후, eggs의 id2(메모리위치주솟값 정수로표현) : {id(eggs)}\")\n",
    "    eggs = [2,3] # 새로운 객체를 재할당!! 중요함!!\n",
    "    print(f\"eggs = [2,3] 후, eggs의 id3(메모리위치주솟값 정수로표현) :{id(eggs)}\")\n",
    "\n",
    "# 함수 사용\n",
    "ham = [0] # 요소가 0인 리스트 준비\n",
    "print(f\"spam(ham)호출 하기 전의 ham의 id(메모리위치주솟값 정수로표현) : {id(ham)}\")\n",
    "spam(ham)\n",
    "print(f\"spam(ham)호출 하기 후의 ham의 id(메모리위치주솟값 정수로표현) : {id(ham)}\")"
   ],
   "outputs": [
    {
     "name": "stdout",
     "output_type": "stream",
     "text": [
      "spam(ham)호출 하기 전의 ham의 id(메모리위치주솟값 정수로표현) : 2509961537728\n",
      "eggs의 id(메모리위치주솟값 정수로표현) : 2509961537728\n",
      "eggs.append(1) 후, eggs의 id2(메모리위치주솟값 정수로표현) : 2509961537728\n",
      "eggs = [2,3] 후, eggs의 id3(메모리위치주솟값 정수로표현) :2509961269760\n",
      "spam(ham)호출 하기 후의 ham의 id(메모리위치주솟값 정수로표현) : 2509961537728\n"
     ]
    }
   ],
   "execution_count": 5
  },
  {
   "metadata": {
    "ExecuteTime": {
     "end_time": "2025-09-01T07:26:08.328875Z",
     "start_time": "2025-09-01T07:26:08.324498Z"
    }
   },
   "cell_type": "code",
   "source": [
    "def f():\n",
    "    # global s # 키워드 global, 전역으로 변경.\n",
    "    s = \"jcw\" # 원래는 지역 변수\n",
    "    print(s)\n",
    "s = \"abc\"\n",
    "f()\n",
    "print(s)"
   ],
   "id": "19e88348ac1a4746",
   "outputs": [
    {
     "name": "stdout",
     "output_type": "stream",
     "text": [
      "jcw\n",
      "abc\n"
     ]
    }
   ],
   "execution_count": 6
  },
  {
   "metadata": {
    "ExecuteTime": {
     "end_time": "2025-09-01T07:26:12.310430Z",
     "start_time": "2025-09-01T07:26:12.306804Z"
    }
   },
   "cell_type": "code",
   "source": [
    "def f():\n",
    "    global s # 키워드 global, 전역으로 변경.\n",
    "    s = \"jcw\" # 원래는 지역 변수\n",
    "    print(s)\n",
    "s = \"abc\"\n",
    "f()\n",
    "print(s)"
   ],
   "id": "3cee25db1f51fe5",
   "outputs": [
    {
     "name": "stdout",
     "output_type": "stream",
     "text": [
      "jcw\n",
      "jcw\n"
     ]
    }
   ],
   "execution_count": 7
  },
  {
   "metadata": {
    "ExecuteTime": {
     "end_time": "2025-09-02T01:08:17.781070Z",
     "start_time": "2025-09-02T01:08:17.777010Z"
    }
   },
   "cell_type": "code",
   "source": [
    "def abc(*a):\n",
    "    x, y, *z = a\n",
    "    return x, y, z\n",
    "print(abc(1, 2, 3))\n",
    "print(abc(1, 2, 3, 4))\n",
    "print(abc(1, 2, 3, 4, 5))"
   ],
   "id": "9b12be37aafbafde",
   "outputs": [
    {
     "name": "stdout",
     "output_type": "stream",
     "text": [
      "(1, 2, [3])\n",
      "(1, 2, [3, 4])\n",
      "(1, 2, [3, 4, 5])\n"
     ]
    }
   ],
   "execution_count": 1
  },
  {
   "metadata": {
    "ExecuteTime": {
     "end_time": "2025-09-02T01:13:12.487320Z",
     "start_time": "2025-09-02T01:13:12.482437Z"
    }
   },
   "cell_type": "code",
   "source": [
    "def aaa(**keys):\n",
    "    print(keys)\n",
    "    print(f\"value : {keys['first']}\")\n",
    "aaa(first=1, second=2, third=3) # 키워드 가변 인수에서는 인자값을 딕션너리 형태로 입력. / 키=값 형태\n"
   ],
   "id": "bee725f8a47912f8",
   "outputs": [
    {
     "name": "stdout",
     "output_type": "stream",
     "text": [
      "{'first': 1, 'second': 2, 'third': 3}\n",
      "value : 1\n"
     ]
    }
   ],
   "execution_count": 2
  },
  {
   "metadata": {
    "ExecuteTime": {
     "end_time": "2025-09-02T01:20:30.845516Z",
     "start_time": "2025-09-02T01:20:30.840756Z"
    }
   },
   "cell_type": "code",
   "source": [
    "str = \"abc\"\n",
    "print(str[0:2:1])\n",
    "print(str[::-1])"
   ],
   "id": "dba3514365cb7b53",
   "outputs": [
    {
     "name": "stdout",
     "output_type": "stream",
     "text": [
      "ab\n",
      "cba\n"
     ]
    }
   ],
   "execution_count": 4
  },
  {
   "metadata": {
    "ExecuteTime": {
     "end_time": "2025-09-02T01:34:11.722689Z",
     "start_time": "2025-09-02T01:34:11.717772Z"
    }
   },
   "cell_type": "code",
   "source": [
    "f = open(\"yesterday.txt\",\"r\")\n",
    "yesterday_lyric = f.readlines()\n",
    "f.close()\n",
    "\n",
    "contents = \"\"\n",
    "for line in yesterday_lyric:\n",
    "    contents = contents + line.strip() + \"\\n\"\n",
    "number_of_yesterday = contents.upper().count(\"YESTERDAY\")\n",
    "print(f\"노래 가사에서 yesterday 단어 갯수 확인 : {number_of_yesterday}\")"
   ],
   "id": "754a78a5a9a79a54",
   "outputs": [
    {
     "name": "stdout",
     "output_type": "stream",
     "text": [
      "노래 가사에서 yesterday 단어 갯수 확인 : 9\n"
     ]
    }
   ],
   "execution_count": 5
  },
  {
   "metadata": {
    "ExecuteTime": {
     "end_time": "2025-09-02T02:21:49.364813Z",
     "start_time": "2025-09-02T02:21:49.358605Z"
    }
   },
   "cell_type": "code",
   "source": [
    "# 문자열 출력시에는 f-string  권장하고,\n",
    "# 만약에, 소숫점을 표현 할 일 있다면, -> ai 모델의 정확도, 오차률, 측정시 필요함. 그외에는 잘 안씀.\n",
    "#\n",
    "number = 3.14159265\n",
    "\n",
    "# 소수점 둘째 자리까지 표기\n",
    "print(f\"둘째 자리까지: {number:.2f}\")\n",
    "\n",
    "# 소수점 넷째 자리까지 표기\n",
    "print(f\"넷째 자리까지: {number:.4f}\")\n",
    "\n",
    "# 소수점 자리를 표기하지 않음 (정수로 표기)\n",
    "print(f\"정수로: {number:.0f}\")"
   ],
   "id": "e5c3e6497cab6c41",
   "outputs": [
    {
     "name": "stdout",
     "output_type": "stream",
     "text": [
      "둘째 자리까지: 3.14\n",
      "넷째 자리까지: 3.1416\n",
      "정수로: 3\n"
     ]
    }
   ],
   "execution_count": 6
  }
 ],
 "metadata": {
  "kernelspec": {
   "display_name": "Python 3",
   "language": "python",
   "name": "python3"
  },
  "language_info": {
   "codemirror_mode": {
    "name": "ipython",
    "version": 2
   },
   "file_extension": ".py",
   "mimetype": "text/x-python",
   "name": "python",
   "nbconvert_exporter": "python",
   "pygments_lexer": "ipython2",
   "version": "2.7.6"
  }
 },
 "nbformat": 4,
 "nbformat_minor": 5
}
