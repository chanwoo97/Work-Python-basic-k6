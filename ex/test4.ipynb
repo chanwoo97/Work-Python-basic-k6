{
 "cells": [
  {
   "cell_type": "code",
   "id": "initial_id",
   "metadata": {
    "collapsed": true,
    "ExecuteTime": {
     "end_time": "2025-09-04T03:11:26.921558Z",
     "start_time": "2025-09-04T03:11:26.804301Z"
    }
   },
   "source": [
    "# 문제1 : 배열 생성 및 변형\n",
    "# 1부터 25까지의 숫자를 포함하는 1차원 배열을 만든 후, 이 배열을 5x5 크기의 2차원 배열로 변형하세요.\n",
    "\n",
    "import numpy as np\n",
    "\n",
    "# 1. 1부터 25까지의 숫자를 포함하는 1차원 배열 생성\n",
    "# np.arange(시작, 끝+1) 함수를 사용합니다.\n",
    "array_1d = np.arange(1, 26)\n",
    "print(\"--- 1차원 배열 ---\")\n",
    "print(array_1d)\n",
    "print() # 줄바꿈\n",
    "\n",
    "# 2. 1차원 배열을 5x5 크기의 2차원 배열로 변형\n",
    "# .reshape(행, 열) 메서드를 사용합니다.\n",
    "array_2d = array_1d.reshape(5, 5)\n",
    "print(\"--- 5x5 2차원 배열 ---\")\n",
    "print(array_2d)"
   ],
   "outputs": [
    {
     "name": "stdout",
     "output_type": "stream",
     "text": [
      "--- 1차원 배열 ---\n",
      "[ 1  2  3  4  5  6  7  8  9 10 11 12 13 14 15 16 17 18 19 20 21 22 23 24\n",
      " 25]\n",
      "\n",
      "--- 5x5 2차원 배열 ---\n",
      "[[ 1  2  3  4  5]\n",
      " [ 6  7  8  9 10]\n",
      " [11 12 13 14 15]\n",
      " [16 17 18 19 20]\n",
      " [21 22 23 24 25]]\n"
     ]
    }
   ],
   "execution_count": 1
  },
  {
   "metadata": {
    "ExecuteTime": {
     "end_time": "2025-09-04T03:15:27.408480Z",
     "start_time": "2025-09-04T03:15:27.402754Z"
    }
   },
   "cell_type": "code",
   "source": [
    "# 문제2 : 배열 슬라이싱\n",
    "# 위 1번 문제에서 생성한 5x5 배열에서, 아래 그림과 같이 안쪽에 위치한 3x3 배열(값 7부터 19까지)을 슬라이싱하여 추출하세요.\n",
    "\n",
    "import numpy as np\n",
    "\n",
    "# 1번 문제의 5x5 배열을 먼저 생성합니다.\n",
    "array_2d = np.arange(1, 26).reshape(5, 5)\n",
    "\n",
    "# 배열 슬라이싱을 사용하여 3x3 부분을 추출합니다.\n",
    "# array[행_시작:행_끝, 열_시작:열_끝]\n",
    "# 행은 1번 인덱스부터 3번 인덱스까지 (4 직전까지)\n",
    "# 열은 1번 인덱스부터 3번 인덱스까지 (4 직전까지)\n",
    "inner_array = array_2d[1:4, 1:4]\n",
    "\n",
    "print(\"--- 원본 5x5 배열 ---\")\n",
    "print(array_2d)\n",
    "print()\n",
    "print(\"--- 추출된 3x3 배열 ---\")\n",
    "print(inner_array)"
   ],
   "id": "fbbeb73425395bc",
   "outputs": [
    {
     "name": "stdout",
     "output_type": "stream",
     "text": [
      "--- 원본 5x5 배열 ---\n",
      "[[ 1  2  3  4  5]\n",
      " [ 6  7  8  9 10]\n",
      " [11 12 13 14 15]\n",
      " [16 17 18 19 20]\n",
      " [21 22 23 24 25]]\n",
      "\n",
      "--- 추출된 3x3 배열 ---\n",
      "[[ 7  8  9]\n",
      " [12 13 14]\n",
      " [17 18 19]]\n"
     ]
    }
   ],
   "execution_count": 2
  },
  {
   "metadata": {
    "ExecuteTime": {
     "end_time": "2025-09-04T03:16:36.816282Z",
     "start_time": "2025-09-04T03:16:36.810125Z"
    }
   },
   "cell_type": "code",
   "source": [
    "# 문제3 : 브로드캐스팅 활용 연산\n",
    "# 2x3 크기의 배열 `A = np.array([[5, 10, 15], [20, 25, 30]])`가 있습니다. 이 배열의 첫 번째 행에는 100을, 두 번째 행에는 200을 더하세요. 브로드캐스팅을 활용하여 한 줄의 코드로 해결해 보세요.\n",
    "# (힌트: `[[100], [200]]` 형태의 배열을 더해야 합니다.)\n",
    "\n",
    "import numpy as np\n",
    "\n",
    "# 2x3 크기의 배열 A를 생성합니다.\n",
    "A = np.array([[5, 10, 15], [20, 25, 30]])\n",
    "\n",
    "# 더할 값을 담은 (2, 1) 크기의 배열 B를 생성합니다.\n",
    "# A(2, 3)와 B(2, 1)의 shape이 다르지만, 브로드캐스팅 규칙에 따라 연산이 가능합니다.\n",
    "# B의 열(column)이 A의 열 개수에 맞게 확장(stretch)되어 각 행에 더해집니다.\n",
    "# [[100], [200]] -> [[100, 100, 100], [200, 200, 200]] 으로 확장되어 계산됩니다.\n",
    "B = np.array([[100], [200]])\n",
    "\n",
    "# 브로드캐스팅을 활용한 연산 (한 줄 코드)\n",
    "result = A + B\n",
    "\n",
    "print(\"--- 원본 배열 A ---\")\n",
    "print(A)\n",
    "print()\n",
    "print(\"--- 더하는 배열 B ---\")\n",
    "print(B)\n",
    "print()\n",
    "print(\"--- 브로드캐스팅 연산 결과 ---\")\n",
    "print(result)"
   ],
   "id": "5c0ea29a07c07710",
   "outputs": [
    {
     "name": "stdout",
     "output_type": "stream",
     "text": [
      "--- 원본 배열 A ---\n",
      "[[ 5 10 15]\n",
      " [20 25 30]]\n",
      "\n",
      "--- 더하는 배열 B ---\n",
      "[[100]\n",
      " [200]]\n",
      "\n",
      "--- 브로드캐스팅 연산 결과 ---\n",
      "[[105 110 115]\n",
      " [220 225 230]]\n"
     ]
    }
   ],
   "execution_count": 3
  },
  {
   "metadata": {
    "ExecuteTime": {
     "end_time": "2025-09-04T03:17:27.845462Z",
     "start_time": "2025-09-04T03:17:27.833993Z"
    }
   },
   "cell_type": "code",
   "source": [
    "# 문제4 : 불리언 인덱싱 (필터링)\n",
    "# 0부터 15까지의 숫자를 가진 4x4 배열을 만드세요. 이 배열에서 3의 배수만 모두 추출하여 1차원 배열로 만드세요.\n",
    "\n",
    "import numpy as np\n",
    "\n",
    "# 1. 0부터 15까지의 숫자를 가진 4x4 배열 생성\n",
    "array_4x4 = np.arange(16).reshape(4, 4)\n",
    "\n",
    "# 2. 불리언 인덱싱을 위한 조건 생성\n",
    "# 배열의 각 요소를 3으로 나누었을 때 나머지가 0인 경우 True, 아니면 False가 되는\n",
    "# 조건 배열(불리언 마스크)을 만듭니다.\n",
    "condition = array_4x4 % 3 == 0\n",
    "\n",
    "# 3. 조건(condition)을 사용하여 3의 배수만 추출\n",
    "# 원본 배열에 조건 배열을 인덱스로 전달하면,\n",
    "# True에 해당하는 위치의 요소들만 추출되어 새로운 1차원 배열로 반환됩니다.\n",
    "multiples_of_3 = array_4x4[condition]\n",
    "\n",
    "print(\"--- 원본 4x4 배열 ---\")\n",
    "print(array_4x4)\n",
    "print()\n",
    "print(\"--- 3의 배수 조건 배열 (불리언 마스크) ---\")\n",
    "print(condition)\n",
    "print()\n",
    "print(\"--- 추출된 3의 배수 (1차원 배열) ---\")\n",
    "print(multiples_of_3)"
   ],
   "id": "69ffd783d3013a14",
   "outputs": [
    {
     "name": "stdout",
     "output_type": "stream",
     "text": [
      "--- 원본 4x4 배열 ---\n",
      "[[ 0  1  2  3]\n",
      " [ 4  5  6  7]\n",
      " [ 8  9 10 11]\n",
      " [12 13 14 15]]\n",
      "\n",
      "--- 3의 배수 조건 배열 (불리언 마스크) ---\n",
      "[[ True False False  True]\n",
      " [False False  True False]\n",
      " [False  True False False]\n",
      " [ True False False  True]]\n",
      "\n",
      "--- 추출된 3의 배수 (1차원 배열) ---\n",
      "[ 0  3  6  9 12 15]\n"
     ]
    }
   ],
   "execution_count": 4
  },
  {
   "metadata": {
    "ExecuteTime": {
     "end_time": "2025-09-04T03:18:54.690328Z",
     "start_time": "2025-09-04T03:18:54.682833Z"
    }
   },
   "cell_type": "code",
   "source": [
    "# 문제5 : 통계 연산 (축 기준)\n",
    "# 다음은 4일간 3개 상점의 일일 매출 데이터입니다.\n",
    "# `sales = np.array([[50, 60, 55], [80, 95, 75], [40, 100, 90], [70, 85, 80]])`\n",
    "# 각 상점별(열 기준) 평균 매출과 각 날짜별(행 기준) 총매출을 각각 계산하세요.\n",
    "\n",
    "import numpy as np\n",
    "\n",
    "# 4일간 3개 상점의 일일 매출 데이터\n",
    "sales = np.array([[50, 60, 55],\n",
    "                  [80, 95, 75],\n",
    "                  [40, 100, 90],\n",
    "                  [70, 85, 80]])\n",
    "\n",
    "# 1. 각 상점별(열 기준) 평균 매출 계산 (axis=0)\n",
    "store_avg_sales = sales.mean(axis=0)\n",
    "\n",
    "# 2. 각 날짜별(행 기준) 총 매출 계산 (axis=1)\n",
    "daily_total_sales = sales.sum(axis=1)\n",
    "\n",
    "print(\"--- 원본 매출 데이터 ---\")\n",
    "print(sales)\n",
    "print(\"\\n--- 각 상점별 평균 매출 ---\")\n",
    "print(store_avg_sales)\n",
    "print(\"\\n--- 각 날짜별 총 매출 ---\")\n",
    "print(daily_total_sales)"
   ],
   "id": "86f663b128c9bfbb",
   "outputs": [
    {
     "name": "stdout",
     "output_type": "stream",
     "text": [
      "--- 원본 매출 데이터 ---\n",
      "[[ 50  60  55]\n",
      " [ 80  95  75]\n",
      " [ 40 100  90]\n",
      " [ 70  85  80]]\n",
      "\n",
      "--- 각 상점별 평균 매출 ---\n",
      "[60. 85. 75.]\n",
      "\n",
      "--- 각 날짜별 총 매출 ---\n",
      "[165 250 230 235]\n"
     ]
    }
   ],
   "execution_count": 5
  },
  {
   "metadata": {
    "ExecuteTime": {
     "end_time": "2025-09-04T03:20:23.078379Z",
     "start_time": "2025-09-04T03:20:23.073534Z"
    }
   },
   "cell_type": "code",
   "source": [
    "# 문제 6: `np.where` 활용\n",
    "# 1부터 10까지의 숫자를 가진 배열에서, 5보다 큰 숫자는 제곱하고, 5보다 작거나 같은 숫자는 0으로 바꾸는 새로운 배열을 생성하세요.\n",
    "\n",
    "import numpy as np\n",
    "\n",
    "# 1. 1부터 10까지의 숫자를 가진 배열 생성\n",
    "original_array = np.arange(1, 11)\n",
    "\n",
    "# 2. np.where를 사용하여 조건에 따라 새로운 배열 생성\n",
    "# np.where(조건, 참일 때 적용할 값, 거짓일 때 적용할 값)\n",
    "#\n",
    "# 조건: original_array > 5\n",
    "# 참일 때: 원본 배열의 요소를 제곱 (original_array**2)\n",
    "# 거짓일 때: 0\n",
    "new_array = np.where(original_array > 5, original_array**2, 0)\n",
    "\n",
    "print(\"--- 원본 배열 ---\")\n",
    "print(original_array)\n",
    "print()\n",
    "print(\"--- np.where 적용 후 새로운 배열 ---\")\n",
    "print(new_array)"
   ],
   "id": "30bcbac73441363a",
   "outputs": [
    {
     "name": "stdout",
     "output_type": "stream",
     "text": [
      "--- 원본 배열 ---\n",
      "[ 1  2  3  4  5  6  7  8  9 10]\n",
      "\n",
      "--- np.where 적용 후 새로운 배열 ---\n",
      "[  0   0   0   0   0  36  49  64  81 100]\n"
     ]
    }
   ],
   "execution_count": 6
  },
  {
   "metadata": {
    "ExecuteTime": {
     "end_time": "2025-09-04T03:21:09.423296Z",
     "start_time": "2025-09-04T03:21:09.417981Z"
    }
   },
   "cell_type": "code",
   "source": [
    "# 문제 7: `argmax` 활용\n",
    "# 어떤 선수의 주간 득점 기록이 `scores = np.array([12, 25, 8, 31, 19, 22, 15])`와 같습니다. 이 선수가 가장 높은 득점을 기록한 것은 몇 번째 주(week)인지 찾아내세요. (인덱스는 0부터 시작)\n",
    "\n",
    "import numpy as np\n",
    "\n",
    "# 선수의 주간 득점 기록 (1주차, 2주차, ...)\n",
    "scores = np.array([12, 25, 8, 31, 19, 22, 15])\n",
    "\n",
    "# np.argmax() 함수는 배열에서 가장 큰 값의 첫 번째 인덱스를 반환합니다.\n",
    "# 이 인덱스가 가장 높은 득점을 기록한 주(week)가 됩니다.\n",
    "hottest_week_index = np.argmax(scores)\n",
    "\n",
    "# (참고) 가장 높은 점수 자체를 찾으려면 np.max() 또는 scores.max()를 사용합니다.\n",
    "max_score = np.max(scores)\n",
    "\n",
    "print(\"--- 주간 득점 기록 ---\")\n",
    "print(scores)\n",
    "print()\n",
    "print(f\"가장 높은 득점: {max_score}\")\n",
    "print(f\"가장 높은 득점을 기록한 주(인덱스): {hottest_week_index}\")\n",
    "\n",
    "# 인덱스는 0부터 시작하므로, 실제로는 (인덱스 + 1)번째 주입니다.\n",
    "print(f\"따라서, 선수는 {hottest_week_index + 1}번째 주에 가장 높은 득점을 기록했습니다.\")"
   ],
   "id": "69d2e1553cacc70a",
   "outputs": [
    {
     "name": "stdout",
     "output_type": "stream",
     "text": [
      "--- 주간 득점 기록 ---\n",
      "[12 25  8 31 19 22 15]\n",
      "\n",
      "가장 높은 득점: 31\n",
      "가장 높은 득점을 기록한 주(인덱스): 3\n",
      "따라서, 선수는 4번째 주에 가장 높은 득점을 기록했습니다.\n"
     ]
    }
   ],
   "execution_count": 7
  },
  {
   "metadata": {
    "ExecuteTime": {
     "end_time": "2025-09-04T03:21:52.016860Z",
     "start_time": "2025-09-04T03:21:52.012366Z"
    }
   },
   "cell_type": "code",
   "source": [
    "# 문제 8: 배열 합치기\n",
    "# `a = np.array([[1, 2], [3, 4]])`와 `b = np.array([[5, 6]])`가 있습니다. `b`를 `a`의 아래에 수직으로 붙여서 3x2 배열을 만드세요.\n",
    "\n",
    "import numpy as np\n",
    "\n",
    "# 2x2 배열 a\n",
    "a = np.array([[1, 2], [3, 4]])\n",
    "\n",
    "# 1x2 배열 b\n",
    "b = np.array([[5, 6]])\n",
    "\n",
    "# np.vstack() 함수를 사용하여 배열들을 수직으로(vertically) 쌓습니다.\n",
    "# vstack에 튜플 형태로 쌓을 배열들을 전달합니다: (a, b)\n",
    "# a와 b의 열의 개수가 같아야 합니다.\n",
    "c = np.vstack((a, b))\n",
    "\n",
    "# 참고: np.concatenate((a, b), axis=0) 와 동일하게 동작합니다.\n",
    "\n",
    "print(\"--- 배열 a ---\")\n",
    "print(a)\n",
    "print()\n",
    "print(\"--- 배열 b ---\")\n",
    "print(b)\n",
    "print()\n",
    "print(\"--- 수직으로 합친 배열 c ---\")\n",
    "print(c)\n",
    "print()\n",
    "print(f\"합쳐진 배열의 shape: {c.shape}\")"
   ],
   "id": "266fa9d7c8c67326",
   "outputs": [
    {
     "name": "stdout",
     "output_type": "stream",
     "text": [
      "--- 배열 a ---\n",
      "[[1 2]\n",
      " [3 4]]\n",
      "\n",
      "--- 배열 b ---\n",
      "[[5 6]]\n",
      "\n",
      "--- 수직으로 합친 배열 c ---\n",
      "[[1 2]\n",
      " [3 4]\n",
      " [5 6]]\n",
      "\n",
      "합쳐진 배열의 shape: (3, 2)\n"
     ]
    }
   ],
   "execution_count": 8
  },
  {
   "metadata": {
    "ExecuteTime": {
     "end_time": "2025-09-04T03:22:49.389631Z",
     "start_time": "2025-09-04T03:22:49.382524Z"
    }
   },
   "cell_type": "code",
   "source": [
    "# 문제 9: 결측치(NaN) 처리\n",
    "# 다음 배열에서 결측치(`np.nan`)의 개수를 세고, 결측치를 해당 배열의 전체 평균값(결측치를 제외한)으로 대체하세요.\n",
    "# `data = np.array([10., 20., np.nan, 30., 40., np.nan, 50.])`\n",
    "\n",
    "import numpy as np\n",
    "\n",
    "# 결측치가 포함된 배열\n",
    "data = np.array([10., 20., np.nan, 30., 40., np.nan, 50.])\n",
    "print(\"--- 원본 배열 ---\")\n",
    "print(data)\n",
    "print()\n",
    "\n",
    "# 1. 결측치(NaN) 개수 세기\n",
    "# np.isnan()은 NaN 위치에 True를, 아닌 곳에 False를 갖는 불리언 배열을 반환합니다.\n",
    "# 불리언 배열에 np.sum()을 적용하면 True의 개수(즉, NaN의 개수)를 셀 수 있습니다.\n",
    "nan_count = np.sum(np.isnan(data))\n",
    "print(f\"결측치(NaN)의 개수: {nan_count}\")\n",
    "print()\n",
    "\n",
    "# 2. 결측치를 평균값으로 대체하기\n",
    "# np.nanmean() 함수는 배열 내의 NaN 값을 무시하고 평균을 계산합니다.\n",
    "mean_val = np.nanmean(data)\n",
    "print(f\"결측치를 제외한 평균값: {mean_val}\")\n",
    "print()\n",
    "\n",
    "# np.isnan(data)를 사용해 NaN인 위치를 찾아, 그 위치의 값들을 위에서 구한 평균값으로 대입(대체)합니다.\n",
    "data[np.isnan(data)] = mean_val\n",
    "\n",
    "print(\"--- 결측치 대체 후 배열 ---\")\n",
    "print(data)"
   ],
   "id": "847ecc75f2bbc164",
   "outputs": [
    {
     "name": "stdout",
     "output_type": "stream",
     "text": [
      "--- 원본 배열 ---\n",
      "[10. 20. nan 30. 40. nan 50.]\n",
      "\n",
      "결측치(NaN)의 개수: 2\n",
      "\n",
      "결측치를 제외한 평균값: 30.0\n",
      "\n",
      "--- 결측치 대체 후 배열 ---\n",
      "[10. 20. 30. 30. 40. 30. 50.]\n"
     ]
    }
   ],
   "execution_count": 9
  },
  {
   "metadata": {
    "ExecuteTime": {
     "end_time": "2025-09-04T03:23:47.573717Z",
     "start_time": "2025-09-04T03:23:47.567724Z"
    }
   },
   "cell_type": "code",
   "source": [
    "# 문제 10: 종합 응용\n",
    "# 10x2 크기의 배열에 0부터 99까지의 정수를 무작위로 채우세요. 이 배열은 (x, y) 좌표 목록으로 간주합니다. 이 중에서 x값(0번 열)이 y값(1번 열)보다 큰 모든 좌표(행)를 찾아 출력하세요.\n",
    "\n",
    "import numpy as np\n",
    "\n",
    "# 1. 10x2 크기의 배열에 0~99 사이의 정수를 무작위로 채웁니다.\n",
    "# np.random.randint(최소값, 최대값+1, size=(행, 열))\n",
    "# 실행할 때마다 다른 랜덤 값으로 채워집니다.\n",
    "coords = np.random.randint(0, 100, size=(10, 2))\n",
    "print(\"--- 전체 (x, y) 좌표 배열 ---\")\n",
    "print(coords)\n",
    "print()\n",
    "\n",
    "# 2. x > y 인 조건을 만듭니다.\n",
    "# 0번 열(x 좌표)이 1번 열(y 좌표)보다 큰 행을 찾습니다.\n",
    "# 이 조건은 각 행에 대해 True 또는 False를 갖는 1차원 불리언 배열을 생성합니다.\n",
    "condition = coords[:, 0] > coords[:, 1]\n",
    "\n",
    "# 3. 불리언 인덱싱으로 조건에 맞는 행만 추출합니다.\n",
    "# coords 배열에 위에서 만든 condition 배열을 인덱스로 전달하면,\n",
    "# condition이 True인 행들만 선택되어 새로운 배열로 반환됩니다.\n",
    "result_coords = coords[condition]\n",
    "\n",
    "print(\"--- x값이 y값보다 큰 좌표들 ---\")\n",
    "print(result_coords)"
   ],
   "id": "681ac282351182a4",
   "outputs": [
    {
     "name": "stdout",
     "output_type": "stream",
     "text": [
      "--- 전체 (x, y) 좌표 배열 ---\n",
      "[[39  2]\n",
      " [28  8]\n",
      " [ 8 49]\n",
      " [94 96]\n",
      " [44 19]\n",
      " [70 89]\n",
      " [35 61]\n",
      " [58 25]\n",
      " [45  5]\n",
      " [97 46]]\n",
      "\n",
      "--- x값이 y값보다 큰 좌표들 ---\n",
      "[[39  2]\n",
      " [28  8]\n",
      " [44 19]\n",
      " [58 25]\n",
      " [45  5]\n",
      " [97 46]]\n"
     ]
    }
   ],
   "execution_count": 11
  }
 ],
 "metadata": {
  "kernelspec": {
   "display_name": "Python 3",
   "language": "python",
   "name": "python3"
  },
  "language_info": {
   "codemirror_mode": {
    "name": "ipython",
    "version": 2
   },
   "file_extension": ".py",
   "mimetype": "text/x-python",
   "name": "python",
   "nbconvert_exporter": "python",
   "pygments_lexer": "ipython2",
   "version": "2.7.6"
  }
 },
 "nbformat": 4,
 "nbformat_minor": 5
}
