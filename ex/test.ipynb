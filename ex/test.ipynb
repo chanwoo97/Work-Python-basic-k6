{
 "cells": [
  {
   "cell_type": "code",
   "id": "initial_id",
   "metadata": {
    "collapsed": true,
    "ExecuteTime": {
     "end_time": "2025-09-02T03:27:03.747960Z",
     "start_time": "2025-09-02T03:26:56.602614Z"
    }
   },
   "source": [
    "# 기본실습1 : 문자열 길이 구하기\n",
    "# 문제: 사용자로부터 문자열을 입력받아, 해당 문자열의 길이를 출력하는 함수를 작성하세요.\n",
    "\n",
    "# 'get_string_length'라는 이름의 함수를 정의 (만들기)\n",
    "def get_string_length():\n",
    "    input_string = input(\"문자열을 입력하세요 : \")\n",
    "    print(f\"입력하신 문자열의 길이는 {len(input_string)} 입니다.\")\n",
    "# 위에서 만든 함수를 호출 (실행)\n",
    "get_string_length()"
   ],
   "outputs": [
    {
     "name": "stdout",
     "output_type": "stream",
     "text": [
      "입력하신 문자열의 길이는 11 입니다.\n"
     ]
    }
   ],
   "execution_count": 11
  },
  {
   "metadata": {
    "ExecuteTime": {
     "end_time": "2025-09-02T03:31:05.578206Z",
     "start_time": "2025-09-02T03:30:58.942490Z"
    }
   },
   "cell_type": "code",
   "source": [
    "# 기본실습2 : 문자열 뒤집기\n",
    "# 문제 : 사용자로부터 문자열을 입력받아, 해당 문자열을 뒤집어 반환하는 함수를 작성하세요.\n",
    "\n",
    "def reverse_string():\n",
    "    input_string = input(\"뒤집을 문자열을 입력하세요 : \")\n",
    "    # 이 부분이 문자열을 처음부터 끝까지 보되, 역순으로(-1) 가져오라는 의미입니다. 결과적으로 문자열이 뒤집힙니다.\n",
    "    reverse_str = input_string[::-1]\n",
    "    print(f\"뒤집힌 문자열은 \\\"{reverse_str}\\\" 입니다.\")\n",
    "    # 함수가 뒤집힌 문자열 결과를 반환하도록 합니다.\n",
    "    return reverse_str\n",
    "reverse_string()"
   ],
   "id": "917c5fcc26adda8",
   "outputs": [
    {
     "name": "stdout",
     "output_type": "stream",
     "text": [
      "뒤집힌 문자열은 \"?지먹 뭐 심점 늘오\" 입니다.\n"
     ]
    },
    {
     "data": {
      "text/plain": [
       "'?지먹 뭐 심점 늘오'"
      ]
     },
     "execution_count": 13,
     "metadata": {},
     "output_type": "execute_result"
    }
   ],
   "execution_count": 13
  },
  {
   "metadata": {
    "ExecuteTime": {
     "end_time": "2025-09-02T03:37:31.999313Z",
     "start_time": "2025-09-02T03:37:17.428438Z"
    }
   },
   "cell_type": "code",
   "source": [
    "# 기본실습3 : 특정 문자 개수 세기\n",
    "# 문제 : 사용자로부터 문자열과 특정 문자를 입력받아, 해당 문자가 문자열에 몇 개 포함되어 있는지 세는 함수를 작성하세요.\n",
    "\n",
    "def count_specific_char():\n",
    "    string_input = input(\"전체 문자열을 입력하세요 : \")\n",
    "    char_to_find = input(\"개수를 셀 문자를 하나 입력하세요 : \")\n",
    "\n",
    "    # .count() 함수를 사용하여 특정 문자의 개수를 셉니다.\n",
    "    count = string_input.count(char_to_find)\n",
    "\n",
    "    print(f\"'{string_input}' 안에는 '{char_to_find}'가 {count}개 있습니다.\")\n",
    "count_specific_char()"
   ],
   "id": "58d10db625cf6070",
   "outputs": [
    {
     "name": "stdout",
     "output_type": "stream",
     "text": [
      "'오늘 점심 뭐 먹지?' 안에는 '오늘 점심 뭐 먹지?'가 1개 있습니다.\n"
     ]
    }
   ],
   "execution_count": 15
  },
  {
   "metadata": {
    "ExecuteTime": {
     "end_time": "2025-09-02T03:40:42.954230Z",
     "start_time": "2025-09-02T03:40:35.868837Z"
    }
   },
   "cell_type": "code",
   "source": [
    "# 응용실습1 : 문자열 내 단어 개수 세기\n",
    "# 문제 : 사용자로부터 문장을 입력받아, 해당 문장에 포함된 단어의 개수를 반환하는 함수를 작성하세요.\n",
    "\n",
    "def count_words_in_sentence():\n",
    "    sentence = input(\"문장을 입력하세요 : \")\n",
    "\n",
    "    # .split()을 사용해 문장을 공백 기준으로 나누어 리스트로 만듭니다.\n",
    "    words = sentence.split()\n",
    "\n",
    "    # len()을 사용해 리스트의 요소(단어) 개수를 셉니다.\n",
    "    number_of_words = len(words)\n",
    "\n",
    "    print(f\"입력하신 문장은 {number_of_words}개의 단어로 이루어져 있습니다.\")\n",
    "count_words_in_sentence()"
   ],
   "id": "d650bdfcc561d70d",
   "outputs": [
    {
     "name": "stdout",
     "output_type": "stream",
     "text": [
      "입력하신 문장은 4개의 단어로 이루어져 있습니다.\n"
     ]
    }
   ],
   "execution_count": 16
  },
  {
   "metadata": {
    "ExecuteTime": {
     "end_time": "2025-09-02T03:43:00.018967Z",
     "start_time": "2025-09-02T03:42:49.631371Z"
    }
   },
   "cell_type": "code",
   "source": [
    "# 응용실습2 : 대소문자 변환하기\n",
    "# 문제 : 사용자로부터 문자열을 입력받아, 모든 소문자를 대문자로, 대문자를 소문자로 변환하는 함수를 작성하세요.\n",
    "\n",
    "def swap_case():\n",
    "    user_input = input(\"대소문자를 변환할 문자열을 입력하세요 : \")\n",
    "\n",
    "    # .swapcase() 함수는 문자열 내의 대문자를 소문자로, 소문자를 대문자로 바꿔줍니다.\n",
    "    swapped_text = user_input.swapcase()\n",
    "\n",
    "    print(f\"변환된 문자열 : {swapped_text}\")\n",
    "swap_case()"
   ],
   "id": "a3efcac711090f36",
   "outputs": [
    {
     "name": "stdout",
     "output_type": "stream",
     "text": [
      "변환된 문자열 : TODAY today\n"
     ]
    }
   ],
   "execution_count": 17
  },
  {
   "metadata": {
    "ExecuteTime": {
     "end_time": "2025-09-02T03:47:58.203603Z",
     "start_time": "2025-09-02T03:47:41.597873Z"
    }
   },
   "cell_type": "code",
   "source": [
    "# 응용실습3 : 회문(팰린드롬) 검사하기\n",
    "# 문제 : 사용자가 입력한 문자열이 회문(앞뒤가 동일한 문자열)인지 확인하는 함수를 작성하세요.\n",
    "\n",
    "def check_palindrome():\n",
    "    user_input = input(\"회문인지 검사할 문장이나 단어를 입력하세요 : \")\n",
    "\n",
    "    # 1. 비교하기 편하게 문자열 전처리\n",
    "    # 알파벳과 숫자만 남기고 모두 제거한 뒤, 전부 소문자로 만듭니다.\n",
    "    processed_text = \"\"\n",
    "    for char in user_input:\n",
    "        # char가 알파벳(a-z, A-Z) 또는 숫자(0~9)이면 True\n",
    "        if char.isalpha():\n",
    "            processed_text += char.lower()\n",
    "\n",
    "    # 2. 원본(전처리된)과 뒤집은 것을 비교\n",
    "    # 전처리된 문자열과, 그것을 뒤집은 문자열이 같은지 확인합니다.\n",
    "    if processed_text == processed_text[::-1]:\n",
    "        print(f\"입력하신 '{user_input}'은(는) 회문입니다.\")\n",
    "    else:\n",
    "        print(f\"입력하신 '{user_input}'은(는) 회문이 아닙니다.\")\n",
    "check_palindrome()"
   ],
   "id": "e5dbb57083fe68a",
   "outputs": [
    {
     "name": "stdout",
     "output_type": "stream",
     "text": [
      "입력하신 '오늘 점심 뭐 먹지? today Today'은(는) 회문이 아닙니다.\n"
     ]
    }
   ],
   "execution_count": 18
  }
 ],
 "metadata": {
  "kernelspec": {
   "display_name": "Python 3",
   "language": "python",
   "name": "python3"
  },
  "language_info": {
   "codemirror_mode": {
    "name": "ipython",
    "version": 2
   },
   "file_extension": ".py",
   "mimetype": "text/x-python",
   "name": "python",
   "nbconvert_exporter": "python",
   "pygments_lexer": "ipython2",
   "version": "2.7.6"
  }
 },
 "nbformat": 4,
 "nbformat_minor": 5
}
