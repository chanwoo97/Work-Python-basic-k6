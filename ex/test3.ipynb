{
 "cells": [
  {
   "cell_type": "code",
   "id": "initial_id",
   "metadata": {
    "collapsed": true,
    "ExecuteTime": {
     "end_time": "2025-09-03T07:07:40.015559Z",
     "start_time": "2025-09-03T07:07:40.008933Z"
    }
   },
   "source": [
    "# 기본실습1 : 클래스와 객체 생성\n",
    "# 문제 : 클래스를 정의하고, 이를 사용하여 객체를 생성한 후, 해당 객체의 속성을 출력하세요.\n",
    "# 클래스 : Person\n",
    "# 속성: name, age\n",
    "# 메서드 : introduce\n",
    "# 안녕하세요, 저는 철수이고 25살입니다.\n",
    "\n",
    "class Person:\n",
    "    # __init__은 객체가 만들어질 때(생성자) 자동으로 호출되는 특별한 메서드예요.\n",
    "    # self는 '나 자신(객체)'을 의미하며, name과 age는 입력받을 값입니다.\n",
    "    def __init__(self, name, age):\n",
    "        self.name = name  # 객체의 이름 속성에 입력받은 name을 저장해요.\n",
    "        self.age = age    # 객체의 나이 속성에 입력받은 age를 저장해요.\n",
    "\n",
    "    # introduce는 Person 객체가 '자기소개'하는 행동을 정의하는 메서드예요.\n",
    "    def introduce(self):\n",
    "        # f-string을 사용해 객체의 name과 age 속성을 출력합니다.\n",
    "        print(f\"안녕하세요, 저는 {self.name}이고 {self.age}살입니다.\")\n",
    "\n",
    "# person1이라는 객체를 만들면서 이름은 \"철수\", 나이는 25로 초기화합니다.\n",
    "person1 = Person(\"철수\", 25)\n",
    "\n",
    "# person1 객체가 가진 introduce() 메서드를 호출해 자기소개를 시킵니다.\n",
    "person1.introduce()"
   ],
   "outputs": [
    {
     "name": "stdout",
     "output_type": "stream",
     "text": [
      "안녕하세요, 저는 철수이고 25살입니다.\n"
     ]
    }
   ],
   "execution_count": 1
  },
  {
   "metadata": {
    "ExecuteTime": {
     "end_time": "2025-09-03T07:08:22.327556Z",
     "start_time": "2025-09-03T07:08:22.321626Z"
    }
   },
   "cell_type": "code",
   "source": [
    "# 기본실습2 : 상속과 메서드 오버라이딩\n",
    "# 문제 : 부모 클래스 Animal 을 상속받아 새로운 클래스 Dog, Cat를 만들고, 메서드 sound를 오버라이딩하여 다르게 동작하도록 구현하세요.\n",
    "\n",
    "# 부모 클래스 Animal을 정의합니다.\n",
    "class Animal:\n",
    "    def sound(self):\n",
    "        print(\"동물이 소리를 냅니다.\")\n",
    "\n",
    "# Dog 클래스는 (Animal)을 통해 Animal 클래스의 모든 것을 상속받습니다.\n",
    "class Dog(Animal):\n",
    "    # 부모에게 물려받은 sound 메서드를 Dog에 맞게 덮어씁니다.\n",
    "    def sound(self):\n",
    "        print(\"멍멍!\")\n",
    "\n",
    "# Cat 클래스도 Animal을 상속받고, sound 메서드를 덮어씁니다.\n",
    "class Cat(Animal):\n",
    "    def sound(self):\n",
    "        print(\"야옹~\")\n",
    "\n",
    "# 각 클래스의 객체를 생성합니다.\n",
    "animal = Animal()\n",
    "dog = Dog()\n",
    "cat = Cat()\n",
    "\n",
    "# 각 객체의 sound 메서드를 호출하면, 각 객체에 맞는 다른 소리가 출력됩니다.\n",
    "animal.sound() # 부모 클래스의 메서드 실행\n",
    "dog.sound()    # 오버라이딩된 Dog의 메서드 실행\n",
    "cat.sound()    # 오버라이딩된 Cat의 메서드 실행"
   ],
   "id": "86e679f3cb46ab10",
   "outputs": [
    {
     "name": "stdout",
     "output_type": "stream",
     "text": [
      "동물이 소리를 냅니다.\n",
      "멍멍!\n",
      "야옹~\n"
     ]
    }
   ],
   "execution_count": 2
  },
  {
   "metadata": {
    "ExecuteTime": {
     "end_time": "2025-09-03T07:09:01.941272Z",
     "start_time": "2025-09-03T07:09:01.930657Z"
    }
   },
   "cell_type": "code",
   "source": [
    "# 기본실습3 : 캡슐화 (가시성 제어)\n",
    "# 문제 : 클래스 BankAccount 에서 속성 owner, balance을 (__balance) private으로 선언하고, 이를 접근하는 getter(get_balance) 및 setter(deposit) 메서드를 구현하세요.\n",
    "\n",
    "class BankAccount:\n",
    "    def __init__(self, owner, balance=0):\n",
    "        self.owner = owner\n",
    "        # __balance는 private 속성으로 설정되어 외부 직접 접근이 막힙니다.\n",
    "        self.__balance = balance\n",
    "\n",
    "    # 잔액을 확인하는 '전용 통로' (Getter)\n",
    "    def get_balance(self):\n",
    "        print(f\"{self.owner}님의 현재 잔액은 {self.__balance}원입니다.\")\n",
    "        return self.__balance\n",
    "\n",
    "    # 입금하는 '전용 통로' (Setter)\n",
    "    def deposit(self, amount):\n",
    "        if amount > 0: # 유효성 검사: 입금액이 양수인지 확인\n",
    "            self.__balance += amount\n",
    "            print(f\"{amount}원이 입금되었습니다.\")\n",
    "        else:\n",
    "            print(\"입금액은 0보다 커야 합니다.\")\n",
    "\n",
    "# BankAccount 객체를 생성합니다.\n",
    "account = BankAccount(\"김민준\", 10000)\n",
    "\n",
    "# get_balance()라는 통로를 통해 잔액을 안전하게 확인합니다.\n",
    "account.get_balance()\n",
    "\n",
    "# deposit()이라는 통로를 통해 잔액을 안전하게 변경(입금)합니다.\n",
    "account.deposit(5000)\n",
    "account.get_balance()\n",
    "\n",
    "# 다음 코드는 __balance에 직접 접근하려 하므로 오류가 발생합니다.\n",
    "# print(account.__balance) # 이 코드는 AttributeError를 발생시킵니다."
   ],
   "id": "e18aa413bab404c",
   "outputs": [
    {
     "name": "stdout",
     "output_type": "stream",
     "text": [
      "김민준님의 현재 잔액은 10000원입니다.\n",
      "5000원이 입금되었습니다.\n",
      "김민준님의 현재 잔액은 15000원입니다.\n"
     ]
    },
    {
     "data": {
      "text/plain": [
       "15000"
      ]
     },
     "execution_count": 3,
     "metadata": {},
     "output_type": "execute_result"
    }
   ],
   "execution_count": 3
  },
  {
   "metadata": {
    "ExecuteTime": {
     "end_time": "2025-09-03T07:09:33.579151Z",
     "start_time": "2025-09-03T07:09:33.573913Z"
    }
   },
   "cell_type": "code",
   "source": [
    "# 응용실습1 : 직원 관리 시스템 (클래스 및 인스턴스 활용)\n",
    "# 문제 : Employee 클래스를 만들고, 직원 정보(name, position, salary)를 저장 및 출력(get_info)하는 프로그램을 작성하세요.\n",
    "\n",
    "class Employee:\n",
    "    # 객체가 생성될 때 이름, 직책, 급여를 받아 초기화합니다.\n",
    "    def __init__(self, name, position, salary):\n",
    "        self.name = name\n",
    "        self.position = position\n",
    "        self.salary = salary\n",
    "\n",
    "    # 직원의 정보를 형식에 맞춰 출력하는 메서드입니다.\n",
    "    def get_info(self):\n",
    "        print(f\"이름: {self.name}, 직책: {self.position}, 급여: {self.salary}원\")\n",
    "\n",
    "# '이서연'과 '박도윤'이라는 두 개의 Employee 객체를 생성합니다.\n",
    "emp1 = Employee(\"이서연\", \"개발자\", 60000000)\n",
    "emp2 = Employee(\"박도윤\", \"디자이너\", 55000000)\n",
    "\n",
    "# 각 객체가 가진 get_info() 메서드를 호출해 정보를 출력합니다.\n",
    "print(\"--- 직원 정보 ---\")\n",
    "emp1.get_info()\n",
    "emp2.get_info()"
   ],
   "id": "43b5a32120af1625",
   "outputs": [
    {
     "name": "stdout",
     "output_type": "stream",
     "text": [
      "--- 직원 정보 ---\n",
      "이름: 이서연, 직책: 개발자, 급여: 60000000원\n",
      "이름: 박도윤, 직책: 디자이너, 급여: 55000000원\n"
     ]
    }
   ],
   "execution_count": 4
  },
  {
   "metadata": {
    "ExecuteTime": {
     "end_time": "2025-09-03T07:10:30.149179Z",
     "start_time": "2025-09-03T07:10:30.141268Z"
    }
   },
   "cell_type": "code",
   "source": [
    "# 응용실습2 : 도서 관리 시스템 (상속 및 다형성 활용)\n",
    "# 문제 : 도서 Book, 전자책 EBook, 종이책 PaperBook 클래스를 구현하고, display_info() 메서드를 다형성을 적용하여 다르게 동작하도록 만드세요.\n",
    "\n",
    "# 기본 도서 클래스 (부모 클래스)\n",
    "class Book:\n",
    "    def __init__(self, title, author):\n",
    "        self.title = title\n",
    "        self.author = author\n",
    "\n",
    "    def display_info(self):\n",
    "        print(f\"제목: {self.title}, 저자: {self.author}\")\n",
    "\n",
    "# 전자책 클래스 (EBook)는 Book 클래스를 상속받습니다.\n",
    "class EBook(Book):\n",
    "    def __init__(self, title, author, file_format):\n",
    "        super().__init__(title, author) # 부모의 생성자를 호출해 기본 속성 초기화\n",
    "        self.file_format = file_format\n",
    "\n",
    "    # display_info 메서드를 오버라이딩(재정의)해 파일 형식을 추가로 출력합니다.\n",
    "    def display_info(self):\n",
    "        print(f\"제목: {self.title}, 저자: {self.author}, 파일 형식: {self.file_format}\")\n",
    "\n",
    "# 종이책 클래스 (PaperBook)도 Book 클래스를 상속받습니다.\n",
    "class PaperBook(Book):\n",
    "    def __init__(self, title, author, page_count):\n",
    "        super().__init__(title, author)\n",
    "        self.page_count = page_count\n",
    "\n",
    "    # display_info 메서드를 오버라이딩해 페이지 수를 추가로 출력합니다.\n",
    "    def display_info(self):\n",
    "        print(f\"제목: {self.title}, 저자: {self.author}, 페이지 수: {self.page_count}\")\n",
    "\n",
    "# EBook과 PaperBook 객체를 하나의 리스트에 담습니다.\n",
    "books = [\n",
    "    EBook(\"파이썬 마스터\", \"김파이\", \"PDF\"),\n",
    "    PaperBook(\"알고리즘 정복\", \"이알고\", 350)\n",
    "]\n",
    "\n",
    "# for문을 돌며 각 객체의 display_info()를 호출합니다.\n",
    "# 파이썬은 자동으로 객체 종류에 맞는 display_info()를 찾아 실행합니다. 이것이 바로 다형성입니다.\n",
    "print(\"--- 도서 정보 ---\")\n",
    "for book in books:\n",
    "    book.display_info()"
   ],
   "id": "e94981c630134546",
   "outputs": [
    {
     "name": "stdout",
     "output_type": "stream",
     "text": [
      "--- 도서 정보 ---\n",
      "제목 : 파이썬 마스터, 저자 : 김파이, 파일 형식 : PDF\n",
      "제목 : 알고리즘 정복, 저자 : 이알고, 페이지 수 : 350\n"
     ]
    }
   ],
   "execution_count": 5
  },
  {
   "metadata": {
    "ExecuteTime": {
     "end_time": "2025-09-03T07:11:47.141807Z",
     "start_time": "2025-09-03T07:11:47.135134Z"
    }
   },
   "cell_type": "code",
   "source": [
    "# 응용실습3 : 자동차 관리 시스템 (캡슐화 및 메서드 활용)\n",
    "# 문제 : 자동차 Car 의 연료 잔량을 관리하는 시스템을 만들고, 캡슐화를 적용하여 연료의 상태를 private으로 보호하세요.\n",
    "# 속성 : model, fuel\n",
    "# 게터 : get_fuel\n",
    "# 메서드 : drive(self, distance)\n",
    "# refuel(self, amount) : # 연료 추가\n",
    "\n",
    "class Car:\n",
    "    def __init__(self, model, initial_fuel=50):\n",
    "        self.model = model\n",
    "        # 연료(__fuel)는 private 속성으로 설정해 외부 직접 접근을 막습니다.\n",
    "        self.__fuel = initial_fuel\n",
    "\n",
    "    # 현재 연료를 확인하는 Getter 메서드입니다. / 현재 연료 확인 (Getter)\n",
    "    def get_fuel(self):\n",
    "        print(f\"현재 연료: {self.__fuel}L\")\n",
    "        return self.__fuel\n",
    "\n",
    "    # 주행 메서드: 연료를 소모합니다. / 주행 (연료 소모)\n",
    "    def drive(self, distance):\n",
    "        fuel_needed = distance / 10\n",
    "        if self.__fuel >= fuel_needed:\n",
    "            self.__fuel -= fuel_needed\n",
    "            print(f\"{distance}km 주행하여 {fuel_needed}L의 연료를 사용했습니다.\")\n",
    "        else:\n",
    "            print(\"연료가 부족하여 주행할 수 없습니다.\")\n",
    "\n",
    "    # 주유 메서드: 연료를 추가합니다. / 주유 (연료 추가)\n",
    "    def refuel(self, amount):\n",
    "        if amount > 0:\n",
    "            self.__fuel += amount\n",
    "            print(f\"{amount}L를 주유했습니다.\")\n",
    "        else:\n",
    "            print(\"주유량은 0보다 커야 합니다.\")\n",
    "\n",
    "# 자동차 객체를 생성하고 메서드를 통해 연료를 관리합니다.\n",
    "# 자동차 객체 생성\n",
    "my_car = Car(\"소나타\")\n",
    "my_car.get_fuel()\n",
    "\n",
    "# 주행\n",
    "my_car.drive(200)\n",
    "my_car.get_fuel()\n",
    "\n",
    "# 주유\n",
    "my_car.refuel(30)\n",
    "my_car.get_fuel()\n",
    "\n",
    "# 연료 부족 테스트\n",
    "my_car.drive(700) # 연료 부족으로 주행 불가"
   ],
   "id": "82ae491fb434f513",
   "outputs": [
    {
     "name": "stdout",
     "output_type": "stream",
     "text": [
      "현재 연료 : 50L\n",
      "200km 주행하여 20.0L의 연료를 사용했습니다.\n",
      "현재 연료 : 30.0L\n",
      "30L를 주유했습니다.\n",
      "현재 연료 : 60.0L\n",
      "연료가 부족하여 주행할 수 없습니다.\n"
     ]
    }
   ],
   "execution_count": 6
  }
 ],
 "metadata": {
  "kernelspec": {
   "display_name": "Python 3",
   "language": "python",
   "name": "python3"
  },
  "language_info": {
   "codemirror_mode": {
    "name": "ipython",
    "version": 2
   },
   "file_extension": ".py",
   "mimetype": "text/x-python",
   "name": "python",
   "nbconvert_exporter": "python",
   "pygments_lexer": "ipython2",
   "version": "2.7.6"
  }
 },
 "nbformat": 4,
 "nbformat_minor": 5
}
