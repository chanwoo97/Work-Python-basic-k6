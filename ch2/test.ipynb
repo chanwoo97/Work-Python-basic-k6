{
 "cells": [
  {
   "cell_type": "code",
   "id": "initial_id",
   "metadata": {
    "collapsed": true,
    "ExecuteTime": {
     "end_time": "2025-09-01T08:05:38.368216Z",
     "start_time": "2025-09-01T08:05:38.364382Z"
    }
   },
   "source": [
    "a = 1   # 정수형\n",
    "b = 1   # 실수형\n",
    "print(a,b)"
   ],
   "outputs": [
    {
     "name": "stdout",
     "output_type": "stream",
     "text": [
      "1 1\n"
     ]
    }
   ],
   "execution_count": 38
  },
  {
   "metadata": {
    "ExecuteTime": {
     "end_time": "2025-09-01T08:05:38.390743Z",
     "start_time": "2025-09-01T08:05:38.386851Z"
    }
   },
   "cell_type": "code",
   "source": [
    "a = 1.5 # 실수형\n",
    "b = 3.5 # 실수형\n",
    "print(a,b)"
   ],
   "id": "e03af4c6121167b1",
   "outputs": [
    {
     "name": "stdout",
     "output_type": "stream",
     "text": [
      "1.5 3.5\n"
     ]
    }
   ],
   "execution_count": 39
  },
  {
   "metadata": {
    "ExecuteTime": {
     "end_time": "2025-09-01T08:05:38.417344Z",
     "start_time": "2025-09-01T08:05:38.413817Z"
    }
   },
   "cell_type": "code",
   "source": [
    "a = \"ABC\"   # 문자형\n",
    "b = \"101010\"    # 문자형\n",
    "print(a,b)"
   ],
   "id": "cbf5bdf96931d148",
   "outputs": [
    {
     "name": "stdout",
     "output_type": "stream",
     "text": [
      "ABC 101010\n"
     ]
    }
   ],
   "execution_count": 40
  },
  {
   "metadata": {
    "ExecuteTime": {
     "end_time": "2025-09-01T08:05:38.454273Z",
     "start_time": "2025-09-01T08:05:38.451521Z"
    }
   },
   "cell_type": "code",
   "source": [
    "a = True    # 불린형\n",
    "b = False   # 불린형\n",
    "print(a,b)"
   ],
   "id": "1e9c0adacc366978",
   "outputs": [
    {
     "name": "stdout",
     "output_type": "stream",
     "text": [
      "True False\n"
     ]
    }
   ],
   "execution_count": 41
  },
  {
   "metadata": {
    "ExecuteTime": {
     "end_time": "2025-09-01T08:05:38.475139Z",
     "start_time": "2025-09-01T08:05:38.471811Z"
    }
   },
   "cell_type": "code",
   "source": [
    "25 + 30\n",
    "30 - 12\n",
    "50 * 3\n",
    "30 / 5"
   ],
   "id": "91486c16687aa288",
   "outputs": [
    {
     "data": {
      "text/plain": [
       "6.0"
      ]
     },
     "execution_count": 42,
     "metadata": {},
     "output_type": "execute_result"
    }
   ],
   "execution_count": 42
  },
  {
   "metadata": {
    "ExecuteTime": {
     "end_time": "2025-09-01T08:05:38.500442Z",
     "start_time": "2025-09-01T08:05:38.497433Z"
    }
   },
   "cell_type": "code",
   "source": [
    "print(3*3*3*3*3)    # 3을 다섯 번 곱함\n",
    "print(3**5) # 3의 5승"
   ],
   "id": "abb97130f3942935",
   "outputs": [
    {
     "name": "stdout",
     "output_type": "stream",
     "text": [
      "243\n",
      "243\n"
     ]
    }
   ],
   "execution_count": 43
  },
  {
   "metadata": {
    "ExecuteTime": {
     "end_time": "2025-09-01T08:05:38.515891Z",
     "start_time": "2025-09-01T08:05:38.512703Z"
    }
   },
   "cell_type": "code",
   "source": [
    "print(7 // 2)   # 7 나누기 2의 몫\n",
    "print(7 % 2 )   # 7 나누기 2의 나머지"
   ],
   "id": "4f65c45b77cd7019",
   "outputs": [
    {
     "name": "stdout",
     "output_type": "stream",
     "text": [
      "3\n",
      "1\n"
     ]
    }
   ],
   "execution_count": 44
  },
  {
   "metadata": {
    "ExecuteTime": {
     "end_time": "2025-09-01T08:05:38.530707Z",
     "start_time": "2025-09-01T08:05:38.526985Z"
    }
   },
   "cell_type": "code",
   "source": [
    "# 증가 연산자는 +=이고, 감소 연산자는 -=\n",
    "\n",
    "a = 1   # 변수 a에 1을 할당\n",
    "a == a + 1  # a에 1를 더한 후 그 값을 a에 할당\n",
    "print(a)    # a출력\n",
    "\n",
    "a += 1  # a증가 연산\n",
    "print(a)    # a출력\n",
    "\n",
    "a = a - 1   # a에서 1을 뺀 후 그 값을 a에 할당\n",
    "a -= 1  # a감소 연산\n",
    "print(a)    # a출력"
   ],
   "id": "d0143532b548ed95",
   "outputs": [
    {
     "name": "stdout",
     "output_type": "stream",
     "text": [
      "1\n",
      "2\n",
      "0\n"
     ]
    }
   ],
   "execution_count": 45
  },
  {
   "metadata": {
    "ExecuteTime": {
     "end_time": "2025-09-01T08:05:38.546557Z",
     "start_time": "2025-09-01T08:05:38.542849Z"
    }
   },
   "cell_type": "code",
   "source": [
    "# float() 함수 - 정수를 실수형으로 변환해 주는 함수\n",
    "\n",
    "a = 10  # a변수에 정수 데이터 10을 할당\n",
    "print(a)    # a가 정수형으로 출력\n",
    "\n",
    "a = float(10)   # a를 실수형으로 변환 / 정수형인 경우 int()\n",
    "print(a)    # a를 출력\n",
    "\n",
    "a = 10  # a에 정수 데이터 10 할당\n",
    "b = 3   # b에 정수 데이터 3 할당\n",
    "print(a / b)    # 실수형으로 a 나누기 b를 출력\n"
   ],
   "id": "73893972b04b9070",
   "outputs": [
    {
     "name": "stdout",
     "output_type": "stream",
     "text": [
      "10\n",
      "10.0\n",
      "3.3333333333333335\n"
     ]
    }
   ],
   "execution_count": 46
  },
  {
   "metadata": {
    "ExecuteTime": {
     "end_time": "2025-09-01T08:05:38.579287Z",
     "start_time": "2025-09-01T08:05:38.576335Z"
    }
   },
   "cell_type": "code",
   "source": [
    "#int() 함수 - 실수형을 정수형으로 변환해 주는 함수\n",
    "\n",
    "a = int(10.7)\n",
    "b = int(10.3)\n",
    "\n",
    "print(a+b)  # 정수형 a와 b의 합을 출력\n",
    "print(a)    # 정수형 a값 출력\n",
    "print(b)    # 정수형 b값 출력"
   ],
   "id": "b8f812092cb28c05",
   "outputs": [
    {
     "name": "stdout",
     "output_type": "stream",
     "text": [
      "20\n",
      "10\n",
      "10\n"
     ]
    }
   ],
   "execution_count": 47
  },
  {
   "metadata": {
    "ExecuteTime": {
     "end_time": "2025-09-01T08:05:38.613252Z",
     "start_time": "2025-09-01T08:05:38.592677Z"
    }
   },
   "cell_type": "code",
   "source": [
    "# 자료형 변환 : 문자열형 -> 숫자형 변환\n",
    "# 실수형 값을 문자형으로 선언하기 위해서는 반드시 따옴표를 붙여 선언해야 한다.\n",
    "\n",
    "a = '76.3'  # a에 문자열 76.3을 할당, 문자열을 의미\n",
    "b = float(a)    # a를 실수형으로 변환 후 b에 할당\n",
    "print(a)    # a값 출력\n",
    "print(b)    # b값 출력\n",
    "print(a + b)    # a와 b를 더함 -> 문자열과 숫자열의 덧셈이 불가능하여 에러 발생"
   ],
   "id": "41899405de23f1f7",
   "outputs": [
    {
     "name": "stdout",
     "output_type": "stream",
     "text": [
      "76.3\n",
      "76.3\n"
     ]
    },
    {
     "ename": "TypeError",
     "evalue": "can only concatenate str (not \"float\") to str",
     "output_type": "error",
     "traceback": [
      "\u001B[31m---------------------------------------------------------------------------\u001B[39m",
      "\u001B[31mTypeError\u001B[39m                                 Traceback (most recent call last)",
      "\u001B[36mCell\u001B[39m\u001B[36m \u001B[39m\u001B[32mIn[48]\u001B[39m\u001B[32m, line 5\u001B[39m\n\u001B[32m      3\u001B[39m \u001B[38;5;28mprint\u001B[39m(a)    \u001B[38;5;66;03m# a값 출력\u001B[39;00m\n\u001B[32m      4\u001B[39m \u001B[38;5;28mprint\u001B[39m(b)    \u001B[38;5;66;03m# b값 출력\u001B[39;00m\n\u001B[32m----> \u001B[39m\u001B[32m5\u001B[39m \u001B[38;5;28mprint\u001B[39m(\u001B[43ma\u001B[49m\u001B[43m \u001B[49m\u001B[43m+\u001B[49m\u001B[43m \u001B[49m\u001B[43mb\u001B[49m)    \u001B[38;5;66;03m# a와 b를 더함 -> 문자열과 숫자열의 덧셈이 불가능하여 에러 발생\u001B[39;00m\n",
      "\u001B[31mTypeError\u001B[39m: can only concatenate str (not \"float\") to str"
     ]
    }
   ],
   "execution_count": 48
  },
  {
   "metadata": {
    "ExecuteTime": {
     "end_time": "2025-09-01T08:05:38.617207300Z",
     "start_time": "2025-09-01T08:03:06.079847Z"
    }
   },
   "cell_type": "code",
   "source": [
    "# 자료형 변환 : 더하기 연산시 자료형 통일\n",
    "# 두 변수를 더하기 위해서는 다음과 같이 두 변수의 자료형을 통일해야 한다.\n",
    "\n",
    "a = float(a) # a를 실수형으로 변환 후 a에 할당\n",
    "b = a   # 실수형 a값을 b에 할당\n",
    "print(a + b)    # 두 실수형을 더한 후 출력\n"
   ],
   "id": "662e6b2f1c72d900",
   "outputs": [
    {
     "name": "stdout",
     "output_type": "stream",
     "text": [
      "152.6\n"
     ]
    }
   ],
   "execution_count": 31
  },
  {
   "metadata": {
    "ExecuteTime": {
     "end_time": "2025-09-01T08:05:38.626209Z",
     "start_time": "2025-09-01T08:03:55.364198Z"
    }
   },
   "cell_type": "code",
   "source": [
    "# 자료형 변환 : 숫자형 -> 문자형 변환\n",
    "# str() 함수 : 기존의 정수형이나 실수형을 문자열로 바꿔 준다. 문자형 간의 덧셈은 숫자 연산이 아닌 단순 붙이기(concatenate)가 일어난다.\n",
    "\n",
    "a = str(a)  # 실수형 a값을 문자열로 변환 후 a 할당\n",
    "b = str(b)  # 실수형 b값을 문자열로 변환 후 b 할당\n",
    "print(a + b)    # 두 값을 더한 후 출력"
   ],
   "id": "a0a3b41404660001",
   "outputs": [
    {
     "name": "stdout",
     "output_type": "stream",
     "text": [
      "76.376.3\n"
     ]
    }
   ],
   "execution_count": 32
  },
  {
   "metadata": {
    "ExecuteTime": {
     "end_time": "2025-09-01T08:05:48.218716Z",
     "start_time": "2025-09-01T08:05:48.213911Z"
    }
   },
   "cell_type": "code",
   "source": [
    "# type() 함수 : 자료형을 확인할 수 있는 함수\n",
    "\n",
    "a = int(10.3)   # a는 정수형으로 10.3을 할당\n",
    "b = float(10.3) # b는 실수형으로 10.3을 할당\n",
    "c = str(10.3)   # c는 문자형으로 10.3을 할당\n",
    "\n",
    "type(a) # a의 타입을 출력\n",
    "type(b) # b의 타입을 출력\n",
    "type(c) # c의 타입을 출력"
   ],
   "id": "18ce23211b7d623f",
   "outputs": [
    {
     "data": {
      "text/plain": [
       "str"
      ]
     },
     "execution_count": 50,
     "metadata": {},
     "output_type": "execute_result"
    }
   ],
   "execution_count": 50
  },
  {
   "metadata": {
    "ExecuteTime": {
     "end_time": "2025-09-01T08:10:35.266546Z",
     "start_time": "2025-09-01T08:10:24.852562Z"
    }
   },
   "cell_type": "code",
   "source": [
    "# 화씨온도 = (섭씨온도 * 1.8) + 32\n",
    "# 32.2, 섭씨온도 : 32.2, 화씨온도 : 89.96\n",
    "\n",
    "print(\"본 프로그램은 섭씨온도를 화씨온도로 변환하는 프로그램입니다.\")\n",
    "print(\"변환하고 싶은 섭씨온도를 입력하세요.\")\n",
    "\n",
    "celsius = input()\n",
    "fahrenheit = (float(celsius) * 1.8) + 32\n",
    "\n",
    "print(\"섭씨온도 : \", celsius)\n",
    "print(\"화씨온도 : \", fahrenheit)"
   ],
   "id": "605e6bd34296acff",
   "outputs": [
    {
     "name": "stdout",
     "output_type": "stream",
     "text": [
      "본 프로그램은 섭씨온도를 화씨온도로 변환하는 프로그램입니다.\n",
      "변환하고 싶은 섭씨온도를 입력하세요.\n",
      "섭씨온도 :  32.2\n",
      "화씨온도 :  89.96000000000001\n"
     ]
    }
   ],
   "execution_count": 53
  },
  {
   "metadata": {
    "ExecuteTime": {
     "end_time": "2025-09-01T08:11:48.226872Z",
     "start_time": "2025-09-01T08:11:48.222650Z"
    }
   },
   "cell_type": "code",
   "source": [
    "# 인덱싱 - 리스트에 있는 값에 접근하기 위해, 이 값의 상대적인 주소를 사용하는 것이다.\n",
    "colors = ['red','blue','green']\n",
    "print(colors[0])\n",
    "print(colors[2])\n",
    "print(len(colors))"
   ],
   "id": "76e017f7f8fde857",
   "outputs": [
    {
     "name": "stdout",
     "output_type": "stream",
     "text": [
      "red\n",
      "green\n",
      "3\n"
     ]
    }
   ],
   "execution_count": 54
  },
  {
   "metadata": {
    "ExecuteTime": {
     "end_time": "2025-09-01T08:20:03.600863Z",
     "start_time": "2025-09-01T08:20:03.594078Z"
    }
   },
   "cell_type": "code",
   "source": [
    "# 슬라이싱\n",
    "cities = ['서울', '부산', '인천', '대구', '대전', '광주', '울산', '수원']\n",
    "cities[0:6] # 변수명[시작 인덱스 : 마지막 인덱스]\n",
    "cities[0:5]\n",
    "cities[5:]\n",
    "\n",
    "# 리버스 인덱스 / 오른쪽에서 왼쪽 방향으로 -1부터 시작해서 -8\n",
    "print(cities[:])    # cities 변수의 처음부터 끝까지\n",
    "print(cities[-50:50])   # 범위를 넘어갈 경우 자동으로 최대 범위를 지정\n",
    "\n",
    "# 증가값(step) - 슬라이싱에서는 시작 인덱스와 마지막 인덱스 외에 마지막 자리에 증가값을 넣을 수 있다. 증가값은 한 번에 건너뛰는 값의 개수이다.\n",
    "# 변수명[시작 인덱스 : 마지막 인덱스 : 증가값]\n",
    "cities[::2] # 2칸 단위로\n",
    "cities[::-1]    # 역으로 슬라이싱\n"
   ],
   "id": "65de419a6359d612",
   "outputs": [
    {
     "name": "stdout",
     "output_type": "stream",
     "text": [
      "['서울', '부산', '인천', '대구', '대전', '광주', '울산', '수원']\n",
      "['서울', '부산', '인천', '대구', '대전', '광주', '울산', '수원']\n"
     ]
    },
    {
     "data": {
      "text/plain": [
       "['수원', '울산', '광주', '대전', '대구', '인천', '부산', '서울']"
      ]
     },
     "execution_count": 61,
     "metadata": {},
     "output_type": "execute_result"
    }
   ],
   "execution_count": 61
  },
  {
   "metadata": {
    "ExecuteTime": {
     "end_time": "2025-09-01T08:27:31.933952Z",
     "start_time": "2025-09-01T08:27:31.928384Z"
    }
   },
   "cell_type": "code",
   "source": [
    "# 덧셈 연산 - 덧셈 연산을 하더라도 따로 어딘가 변수에 할당해 주지 않으면 기존 변수는 변화가 없다.\n",
    "\n",
    "color1 = ['red', 'blue', 'green']\n",
    "color2 = ['orange', 'black', 'white']\n",
    "print(color1 + color2)  # 두 리스트 합치기\n",
    "\n",
    "len(color1) # 리스트 길이\n",
    "\n",
    "total_color = color1 + color2\n",
    "total_color"
   ],
   "id": "b2e999e0f867b0db",
   "outputs": [
    {
     "name": "stdout",
     "output_type": "stream",
     "text": [
      "['red', 'blue', 'green', 'orange', 'black', 'white']\n"
     ]
    },
    {
     "data": {
      "text/plain": [
       "['red', 'blue', 'green', 'orange', 'black', 'white']"
      ]
     },
     "execution_count": 64,
     "metadata": {},
     "output_type": "execute_result"
    }
   ],
   "execution_count": 64
  },
  {
   "metadata": {
    "ExecuteTime": {
     "end_time": "2025-09-01T08:29:24.355995Z",
     "start_time": "2025-09-01T08:29:24.352271Z"
    }
   },
   "cell_type": "code",
   "source": [
    "# 곱셈 연산 - 리스트의 곱셈 연산은 기준 리스트에 n을 곱했을 때, 같은 리스트를 n배만큼 늘려준다.\n",
    "\n",
    "color1 * 2  # color1 리스트 2회 반복\n",
    "\n",
    "#in 연산 - 포함 여부를 확인하는 연산으로, 하나의 값이 해당 리스트에 들어 있는지 확인할 수 있다.\n",
    "\n",
    "'blue' in color2    # color2 변수에서 문자열 'blue'의 존재 여부 반환"
   ],
   "id": "463b31570165dc8e",
   "outputs": [
    {
     "data": {
      "text/plain": [
       "False"
      ]
     },
     "execution_count": 66,
     "metadata": {},
     "output_type": "execute_result"
    }
   ],
   "execution_count": 66
  },
  {
   "metadata": {
    "ExecuteTime": {
     "end_time": "2025-09-01T08:32:07.051366Z",
     "start_time": "2025-09-01T08:32:07.046911Z"
    }
   },
   "cell_type": "code",
   "source": [
    "# 리스트 추가 및 삭제\n",
    "# append() 함수  - 새로운 값을 기존 리스트의 맨 끝에 추가\n",
    "\n",
    "color = ['red', 'blue', 'green']\n",
    "color.append('white')   # 리스트에 'white' 추가\n",
    "color"
   ],
   "id": "be8b4565e34c871f",
   "outputs": [
    {
     "data": {
      "text/plain": [
       "['red', 'blue', 'green', 'white']"
      ]
     },
     "execution_count": 70,
     "metadata": {},
     "output_type": "execute_result"
    }
   ],
   "execution_count": 70
  },
  {
   "metadata": {
    "ExecuteTime": {
     "end_time": "2025-09-01T08:32:05.346971Z",
     "start_time": "2025-09-01T08:32:05.341616Z"
    }
   },
   "cell_type": "code",
   "source": [
    "# extend() 함수 - 새로운 리스트를 기존 리스트에 추가\n",
    "\n",
    "color = ['red', 'blue', 'green']\n",
    "color.extend(['black', 'purple'])   # 리스트에 새로운 리스트 추가\n",
    "color"
   ],
   "id": "f62c864c07064187",
   "outputs": [
    {
     "data": {
      "text/plain": [
       "['red', 'blue', 'green', 'black', 'purple']"
      ]
     },
     "execution_count": 69,
     "metadata": {},
     "output_type": "execute_result"
    }
   ],
   "execution_count": 69
  },
  {
   "metadata": {
    "ExecuteTime": {
     "end_time": "2025-09-01T08:33:02.852580Z",
     "start_time": "2025-09-01T08:33:02.847967Z"
    }
   },
   "cell_type": "code",
   "source": [
    "# insert() 함수 - 기존 리스트의 i번째 인덱스에 새로운 값을 추가, i번째 인덱스를 기준으로 뒤쪽의 인덱스가 하나씩 밀림.\n",
    "\n",
    "color = ['red', 'blue', 'green']\n",
    "color.insert(0, 'orange')\n",
    "color"
   ],
   "id": "f3cb2756c70f7e71",
   "outputs": [
    {
     "data": {
      "text/plain": [
       "['orange', 'red', 'blue', 'green']"
      ]
     },
     "execution_count": 71,
     "metadata": {},
     "output_type": "execute_result"
    }
   ],
   "execution_count": 71
  },
  {
   "metadata": {
    "ExecuteTime": {
     "end_time": "2025-09-01T08:34:44.001910Z",
     "start_time": "2025-09-01T08:34:43.997313Z"
    }
   },
   "cell_type": "code",
   "source": [
    "# remove() 함수 - 리스트 내의 특정 값을 삭제.\n",
    "\n",
    "color = ['orange', 'red', 'blue', 'green']\n",
    "color.remove('red')\n",
    "color"
   ],
   "id": "aee377990169c825",
   "outputs": [
    {
     "data": {
      "text/plain": [
       "['orange', 'blue', 'green']"
      ]
     },
     "execution_count": 74,
     "metadata": {},
     "output_type": "execute_result"
    }
   ],
   "execution_count": 74
  },
  {
   "metadata": {
    "ExecuteTime": {
     "end_time": "2025-09-01T08:35:54.211487Z",
     "start_time": "2025-09-01T08:35:54.206546Z"
    }
   },
   "cell_type": "code",
   "source": [
    "# 인덱스의 재할당 - 인덱스에 새로운 값을 할당한다.\n",
    "# 인덱스 삭제 - del 함수를 사용한다.\n",
    "\n",
    "color = ['red', 'blue', 'green']\n",
    "color[0] = 'orange'\n",
    "color\n",
    "\n",
    "# 인덱스 삭제\n",
    "del color[0]\n",
    "color"
   ],
   "id": "7529d66f2b630680",
   "outputs": [
    {
     "data": {
      "text/plain": [
       "['blue', 'green']"
      ]
     },
     "execution_count": 76,
     "metadata": {},
     "output_type": "execute_result"
    }
   ],
   "execution_count": 76
  },
  {
   "metadata": {
    "ExecuteTime": {
     "end_time": "2025-09-01T08:37:27.907021Z",
     "start_time": "2025-09-01T08:37:27.902466Z"
    }
   },
   "cell_type": "code",
   "source": [
    "# 패킹 - 한 변수에 여러 개의 데이터를 할당하는 것\n",
    "# 언패킹 - 한 변수의 데이터를 각각의 변수로 반환하는 것\n",
    "\n",
    "t = [1, 2, 3]   # 1, 2, 3을 변수 t에 패킹\n",
    "a, b, c =  t    # t에 있는 값 1, 2, 3을 변수 a, b, c에 언패킹\n",
    "print(t, a, b, c)"
   ],
   "id": "11eab28ba087b841",
   "outputs": [
    {
     "name": "stdout",
     "output_type": "stream",
     "text": [
      "[1, 2, 3] 1 2 3\n"
     ]
    }
   ],
   "execution_count": 77
  }
 ],
 "metadata": {
  "kernelspec": {
   "display_name": "Python 3",
   "language": "python",
   "name": "python3"
  },
  "language_info": {
   "codemirror_mode": {
    "name": "ipython",
    "version": 2
   },
   "file_extension": ".py",
   "mimetype": "text/x-python",
   "name": "python",
   "nbconvert_exporter": "python",
   "pygments_lexer": "ipython2",
   "version": "2.7.6"
  }
 },
 "nbformat": 4,
 "nbformat_minor": 5
}
