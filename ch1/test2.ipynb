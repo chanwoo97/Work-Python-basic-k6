{
 "cells": [
  {
   "cell_type": "code",
   "id": "464ac1a8",
   "metadata": {
    "ExecuteTime": {
     "end_time": "2025-09-01T02:15:44.766990Z",
     "start_time": "2025-09-01T02:15:44.758748Z"
    }
   },
   "source": "print(\"노트북으로 셀 단위로 확인\")",
   "outputs": [
    {
     "name": "stdout",
     "output_type": "stream",
     "text": [
      "노트북으로 셀 단위로 확인\n"
     ]
    }
   ],
   "execution_count": 1
  },
  {
   "metadata": {
    "ExecuteTime": {
     "end_time": "2025-09-01T02:25:53.902398Z",
     "start_time": "2025-09-01T02:25:53.897367Z"
    }
   },
   "cell_type": "code",
   "source": "print(\"작업중\")",
   "id": "5563346d8560b564",
   "outputs": [
    {
     "name": "stdout",
     "output_type": "stream",
     "text": [
      "작업중\n"
     ]
    }
   ],
   "execution_count": 2
  },
  {
   "metadata": {
    "ExecuteTime": {
     "end_time": "2025-09-01T02:27:04.035234Z",
     "start_time": "2025-09-01T02:27:04.031576Z"
    }
   },
   "cell_type": "code",
   "source": [
    "a = int(10.3)\n",
    "print(a)\n",
    "b = float(a)\n",
    "print(b)"
   ],
   "id": "de9fceb9bb0a498e",
   "outputs": [
    {
     "name": "stdout",
     "output_type": "stream",
     "text": [
      "10\n",
      "10.0\n"
     ]
    }
   ],
   "execution_count": 5
  },
  {
   "metadata": {
    "ExecuteTime": {
     "end_time": "2025-09-01T02:30:36.600637Z",
     "start_time": "2025-09-01T02:30:36.596518Z"
    }
   },
   "cell_type": "code",
   "source": [
    "x = str(123)\n",
    "print(x)\n",
    "print(type(x))"
   ],
   "id": "efcb626e39bffbc5",
   "outputs": [
    {
     "name": "stdout",
     "output_type": "stream",
     "text": [
      "123\n",
      "<class 'str'>\n"
     ]
    }
   ],
   "execution_count": 7
  },
  {
   "metadata": {
    "ExecuteTime": {
     "end_time": "2025-09-01T02:31:26.738256Z",
     "start_time": "2025-09-01T02:31:26.733914Z"
    }
   },
   "cell_type": "code",
   "source": [
    "print(1 == True)\n",
    "print(\"\" == False)"
   ],
   "id": "3bf82150a26410e5",
   "outputs": [
    {
     "name": "stdout",
     "output_type": "stream",
     "text": [
      "True\n",
      "False\n"
     ]
    }
   ],
   "execution_count": 9
  },
  {
   "metadata": {
    "ExecuteTime": {
     "end_time": "2025-09-01T02:35:27.029338Z",
     "start_time": "2025-09-01T02:35:27.025119Z"
    }
   },
   "cell_type": "code",
   "source": [
    "a = '76.3'\n",
    "b = float(a)\n",
    "c = 2.3\n",
    "# print(a + b)\n",
    "print(b + c)\n",
    "print(type(a))\n",
    "print(type(b))\n",
    "print(type(c))"
   ],
   "id": "f7698f5d8b6ae8be",
   "outputs": [
    {
     "name": "stdout",
     "output_type": "stream",
     "text": [
      "78.6\n",
      "<class 'str'>\n",
      "<class 'float'>\n",
      "<class 'float'>\n"
     ]
    }
   ],
   "execution_count": 12
  },
  {
   "metadata": {
    "ExecuteTime": {
     "end_time": "2025-09-01T02:41:33.129021Z",
     "start_time": "2025-09-01T02:41:33.125561Z"
    }
   },
   "cell_type": "code",
   "source": [
    "# 출력방식\n",
    "name = \"찬우\"\n",
    "age = 29\n",
    "print(\"이름 : %s, 나이 : %d\" % (name, age))"
   ],
   "id": "75835ae7d677d6fd",
   "outputs": [
    {
     "name": "stdout",
     "output_type": "stream",
     "text": [
      "이름 : 찬우, 나이 : 29\n"
     ]
    }
   ],
   "execution_count": 17
  },
  {
   "metadata": {
    "ExecuteTime": {
     "end_time": "2025-09-01T02:39:40.893452Z",
     "start_time": "2025-09-01T02:39:40.889480Z"
    }
   },
   "cell_type": "code",
   "source": [
    "# f-string 형식 (파이썬 3.6 + 권장)\n",
    "name = \"찬우\"\n",
    "age = 29\n",
    "print(f\"이름 : {name}, 나이 : {age}\")"
   ],
   "id": "49a78081fd6c49d6",
   "outputs": [
    {
     "name": "stdout",
     "output_type": "stream",
     "text": [
      "이름 : 찬우, 나이 : 29\n"
     ]
    }
   ],
   "execution_count": 14
  },
  {
   "metadata": {
    "ExecuteTime": {
     "end_time": "2025-09-01T02:46:52.490516Z",
     "start_time": "2025-09-01T02:46:43.408489Z"
    }
   },
   "cell_type": "code",
   "source": [
    "print(\"오늘 점심 뭐 먹죠?\")\n",
    "lunch = input()\n",
    "print(f\"오늘 먹을 점심 메뉴 : {lunch}\")"
   ],
   "id": "4d075f4f0119ab8e",
   "outputs": [
    {
     "name": "stdout",
     "output_type": "stream",
     "text": [
      "오늘 점심 뭐 먹죠?\n",
      "오늘 먹을 점심 메뉴 : 도시락\n",
      "\n"
     ]
    }
   ],
   "execution_count": 18
  },
  {
   "metadata": {
    "ExecuteTime": {
     "end_time": "2025-09-01T02:48:14.680829Z",
     "start_time": "2025-09-01T02:48:11.137332Z"
    }
   },
   "cell_type": "code",
   "source": [
    "lunch = input(\"오늘 점심 뭐 먹죠2?\")\n",
    "print(f\"오늘 먹을 점심 메뉴2 : {lunch}\")"
   ],
   "id": "d76cc07d1587c05e",
   "outputs": [
    {
     "name": "stdout",
     "output_type": "stream",
     "text": [
      "오늘 먹을 점심 메뉴2 : 도시락2\n",
      "\n"
     ]
    }
   ],
   "execution_count": 21
  },
  {
   "metadata": {
    "ExecuteTime": {
     "end_time": "2025-09-01T07:16:22.274864Z",
     "start_time": "2025-09-01T07:16:22.266825Z"
    }
   },
   "cell_type": "code",
   "source": [
    "a = [1,2,3]\n",
    "b = [4,5,6]\n",
    "print(a)\n",
    "print(b)\n",
    "print(a[0:2])\n",
    "print(b[-2:])\n",
    "a.append(100)\n",
    "print(a[:])\n",
    "a.extend(b)\n",
    "print(a)\n",
    "print(a[::-1])\n",
    "print(a[::2])\n",
    "c = a + b\n",
    "print(c)"
   ],
   "id": "4fcdccb61d197e65",
   "outputs": [
    {
     "name": "stdout",
     "output_type": "stream",
     "text": [
      "[1, 2, 3]\n",
      "[4, 5, 6]\n",
      "[1, 2]\n",
      "[5, 6]\n",
      "[1, 2, 3, 100]\n",
      "[1, 2, 3, 100, 4, 5, 6]\n",
      "[6, 5, 4, 100, 3, 2, 1]\n",
      "[1, 3, 4, 6]\n",
      "[1, 2, 3, 100, 4, 5, 6, 4, 5, 6]\n"
     ]
    }
   ],
   "execution_count": 32
  },
  {
   "metadata": {
    "ExecuteTime": {
     "end_time": "2025-09-01T07:16:57.606296Z",
     "start_time": "2025-09-01T07:16:57.601681Z"
    }
   },
   "cell_type": "code",
   "source": [
    "a = [1,2,3]\n",
    "a.insert(1,100)\n",
    "print(a)\n",
    "a.remove(100)\n",
    "print(a)"
   ],
   "id": "3fecb9e35c4d2d18",
   "outputs": [
    {
     "name": "stdout",
     "output_type": "stream",
     "text": [
      "[1, 100, 2, 3]\n",
      "[1, 2, 3]\n"
     ]
    }
   ],
   "execution_count": 33
  },
  {
   "metadata": {
    "ExecuteTime": {
     "end_time": "2025-09-01T05:58:35.836223Z",
     "start_time": "2025-09-01T05:58:35.826480Z"
    }
   },
   "cell_type": "code",
   "outputs": [
    {
     "name": "stdout",
     "output_type": "stream",
     "text": [
      "거짓\n"
     ]
    }
   ],
   "execution_count": 29,
   "source": [
    "if 3>4:\n",
    "    print('참')\n",
    "else:\n",
    "    print('거짓')"
   ],
   "id": "919f2f78d4441233"
  },
  {
   "metadata": {
    "ExecuteTime": {
     "end_time": "2025-09-01T06:06:10.669768Z",
     "start_time": "2025-09-01T06:06:10.665625Z"
    }
   },
   "cell_type": "code",
   "outputs": [
    {
     "name": "stdout",
     "output_type": "stream",
     "text": [
      "0\n",
      "2\n",
      "4\n",
      "6\n",
      "8\n"
     ]
    }
   ],
   "execution_count": 30,
   "source": [
    "for i in range(0,10,2):\n",
    "    print(i)"
   ],
   "id": "9e1965a724a6cf91"
  },
  {
   "metadata": {
    "ExecuteTime": {
     "end_time": "2025-09-01T07:17:08.627467Z",
     "start_time": "2025-09-01T07:17:08.623564Z"
    }
   },
   "cell_type": "code",
   "source": [
    "for i in range(10,1,-1):\n",
    "    print(i)"
   ],
   "id": "991c4abe433236a7",
   "outputs": [
    {
     "name": "stdout",
     "output_type": "stream",
     "text": [
      "10\n",
      "9\n",
      "8\n",
      "7\n",
      "6\n",
      "5\n",
      "4\n",
      "3\n",
      "2\n"
     ]
    }
   ],
   "execution_count": 34
  }
 ],
 "metadata": {
  "kernelspec": {
   "display_name": "Python 3",
   "language": "python",
   "name": "python3"
  },
  "language_info": {
   "codemirror_mode": {
    "name": "ipython",
    "version": 3
   },
   "file_extension": ".py",
   "mimetype": "text/x-python",
   "name": "python",
   "nbconvert_exporter": "python",
   "pygments_lexer": "ipython3",
   "version": "3.13.7"
  }
 },
 "nbformat": 4,
 "nbformat_minor": 5
}
